{
 "cells": [
  {
   "cell_type": "code",
   "execution_count": 1,
   "id": "d6ae7dbf-5bb9-4ef4-9536-22c6a3f92a8c",
   "metadata": {},
   "outputs": [],
   "source": [
    "import cv2\n",
    "import matplotlib.pyplot as plt\n"
   ]
  },
  {
   "cell_type": "code",
   "execution_count": 2,
   "id": "6dce3089-1531-4607-aff6-9d234557a579",
   "metadata": {},
   "outputs": [
    {
     "data": {
      "text/plain": [
       "< cv2.CascadeClassifier 00000276ACFEEA90>"
      ]
     },
     "metadata": {},
     "output_type": "display_data"
    }
   ],
   "source": [
    "clock_detector = cv2.CascadeClassifier('C:\\\\Users\\\\KIIT\\\\Acmegrade Machine Learning\\\\Project\\\\Clock detector\\\\clocks.xml')\n",
    "display (clock_detector)"
   ]
  },
  {
   "cell_type": "code",
   "execution_count": 3,
   "id": "970b55f0-5b7c-4010-9b49-d802bb5a6e3d",
   "metadata": {},
   "outputs": [
    {
     "data": {
      "text/plain": [
       "(438, 450, 3)"
      ]
     },
     "metadata": {},
     "output_type": "display_data"
    }
   ],
   "source": [
    "image = cv2.imread('C:\\\\Users\\\\KIIT\\\\Acmegrade Machine Learning\\\\Project\\\\Clock detector\\\\clock.jpg')\n",
    "display (image.shape)\n",
    "cv2.imshow('',image)\n",
    "cv2.waitKey(10000)\n",
    "plt.show()\n",
    "cv2.destroyAllWindows()"
   ]
  },
  {
   "cell_type": "code",
   "execution_count": 4,
   "id": "01e6ed00-05c4-4174-bc1b-4fdbb8d1e52d",
   "metadata": {},
   "outputs": [],
   "source": [
    "image_gray = cv2.cvtColor(image, cv2.COLOR_BGR2GRAY)\n",
    "detections = clock_detector.detectMultiScale(image_gray, scaleFactor = 1.03, minNeighbors=1)                                      \n",
    "for (x, y, w, h) in detections:\n",
    "    cv2.rectangle(image, (x, y), (x + w, y + h), (0,255,0), 2)\n",
    "cv2.imshow('',image)\n",
    "cv2.waitKey(10000)\n",
    "plt.show()\n",
    "cv2.destroyAllWindows()"
   ]
  },
  {
   "cell_type": "code",
   "execution_count": null,
   "id": "843eb12e-fca2-4719-b6ed-157e839e3583",
   "metadata": {},
   "outputs": [],
   "source": []
  }
 ],
 "metadata": {
  "kernelspec": {
   "display_name": "Python 3 (ipykernel)",
   "language": "python",
   "name": "python3"
  },
  "language_info": {
   "codemirror_mode": {
    "name": "ipython",
    "version": 3
   },
   "file_extension": ".py",
   "mimetype": "text/x-python",
   "name": "python",
   "nbconvert_exporter": "python",
   "pygments_lexer": "ipython3",
   "version": "3.9.19"
  }
 },
 "nbformat": 4,
 "nbformat_minor": 5
}
